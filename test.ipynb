{
 "cells": [
  {
   "cell_type": "code",
   "execution_count": 36,
   "metadata": {},
   "outputs": [],
   "source": [
    "def read_file_lines(file_path):\n",
    "    with open(file_path) as file:\n",
    "        return [line.strip(\"\\n\") for line in file.readlines()]"
   ]
  },
  {
   "cell_type": "code",
   "execution_count": 50,
   "metadata": {},
   "outputs": [],
   "source": [
    "input = read_file_lines(\"Input/day4_1.txt\")\n",
    "line = input[0]\n",
    "winning_numbers = line[9:39].split()\n",
    "my_numbers = line[41:].split()"
   ]
  },
  {
   "cell_type": "code",
   "execution_count": 52,
   "metadata": {},
   "outputs": [
    {
     "data": {
      "text/plain": [
       "'1'"
      ]
     },
     "execution_count": 52,
     "metadata": {},
     "output_type": "execute_result"
    }
   ],
   "source": [
    "line[5:8].strip()"
   ]
  },
  {
   "cell_type": "code",
   "execution_count": 53,
   "metadata": {},
   "outputs": [],
   "source": [
    "def n_intersection(list_x, list_y):\n",
    "    return len(set(list_x).intersection(set(list_y)))"
   ]
  },
  {
   "cell_type": "code",
   "execution_count": null,
   "metadata": {},
   "outputs": [],
   "source": [
    "count_scratchcards = {}\n",
    "for line in input:\n",
    "    card = line[5:8].strip()\n",
    "    winning_numbers = line[9:39].split()\n",
    "    my_numbers = line[41:].split()\n",
    "\n",
    "    n_cross = n_intersection(winning_numbers, my_numbers)\n",
    "    if count_scratchcards[card]:\n",
    "        count_scratchcards[card] += n_cross"
   ]
  }
 ],
 "metadata": {
  "kernelspec": {
   "display_name": "Python 3",
   "language": "python",
   "name": "python3"
  },
  "language_info": {
   "codemirror_mode": {
    "name": "ipython",
    "version": 3
   },
   "file_extension": ".py",
   "mimetype": "text/x-python",
   "name": "python",
   "nbconvert_exporter": "python",
   "pygments_lexer": "ipython3",
   "version": "3.9.13"
  }
 },
 "nbformat": 4,
 "nbformat_minor": 2
}
